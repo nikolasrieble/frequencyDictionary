{
 "cells": [
  {
   "cell_type": "code",
   "execution_count": null,
   "metadata": {
    "collapsed": true
   },
   "outputs": [],
   "source": [
    "from pathlib import Path\n",
    "\n",
    "import pandas as pd\n",
    "import pymongo\n",
    "import matplotlib.pyplot as plt\n",
    "import seaborn as sns\n",
    "from nltk import FreqDist\n",
    "from nltk.corpus import stopwords\n",
    "from nltk.stem.snowball import SnowballStemmer\n",
    "from nltk.tokenize import word_tokenize, sent_tokenize"
   ]
  },
  {
   "cell_type": "code",
   "execution_count": null,
   "outputs": [],
   "source": [
    "plt.rcParams['figure.figsize'] = 14, 6\n",
    "sns.set()"
   ],
   "metadata": {
    "collapsed": false,
    "pycharm": {
     "name": "#%%\n"
    }
   }
  },
  {
   "cell_type": "code",
   "execution_count": null,
   "outputs": [],
   "source": [
    "stemmer = SnowballStemmer(\"german\")\n",
    "stop_words = set(stopwords.words(\"german\"))"
   ],
   "metadata": {
    "collapsed": false,
    "pycharm": {
     "name": "#%%\n"
    }
   }
  },
  {
   "cell_type": "code",
   "execution_count": null,
   "outputs": [],
   "source": [
    "CURRENT_PATH = Path.cwd()\n",
    "LANGUAGE = 'de'\n",
    "# Todo: better way of connecting to the db\n",
    "MONGO_DB = 'mongo_db_string'\n",
    "mydb = pymongo.MongoClient(MONGO_DB)\n",
    "newspaper = mydb['newspaper']\n",
    "collection = newspaper[LANGUAGE]"
   ],
   "metadata": {
    "collapsed": false,
    "pycharm": {
     "name": "#%%\n"
    }
   }
  },
  {
   "cell_type": "code",
   "execution_count": null,
   "outputs": [],
   "source": [
    "filtered = list()\n",
    "collection_df = list()\n",
    "for entry in collection.find():\n",
    "    headline = entry.get('headline')\n",
    "    published = entry.get('published_at') or entry.get('fetched_at')\n",
    "    author = entry.get('authors')\n",
    "    url = entry.get('url')\n",
    "\n",
    "    # Create some variables\n",
    "    year = published.year\n",
    "    month = published.month\n",
    "    source = url.split('/')[2]\n",
    "\n",
    "    # Process text\n",
    "    text = entry.get('text')\n",
    "    words = word_tokenize(text)\n",
    "    words = [w.lower() for w in words if w.isalpha()]\n",
    "    cleaned_words = [w for w in words if w not in stop_words]\n",
    "    df = pd.Series(dict(\n",
    "        headline=headline,\n",
    "        author=author,\n",
    "        published_at=published.strftime('%Y-%m-%d'),\n",
    "        month=month,\n",
    "        year=year,\n",
    "        words=cleaned_words,\n",
    "        source=source,\n",
    "        url=url,\n",
    "    ))\n",
    "\n",
    "    filtered_words = set(words) - set(cleaned_words)\n",
    "    filtered.append(filtered_words)\n",
    "    collection_df.append(df)\n",
    "\n",
    "collection_df = pd.concat(collection_df, axis=1).T"
   ],
   "metadata": {
    "collapsed": false,
    "pycharm": {
     "name": "#%%\n"
    }
   }
  },
  {
   "cell_type": "code",
   "execution_count": null,
   "outputs": [],
   "source": [
    "collection_df.head()"
   ],
   "metadata": {
    "collapsed": false,
    "pycharm": {
     "name": "#%%\n"
    }
   }
  },
  {
   "cell_type": "code",
   "execution_count": null,
   "outputs": [],
   "source": [
    "n_papers_per_months = collection_df.groupby(['year', 'month'])['headline'].count().rename('n_papers')\n",
    "n_papers_per_months.plot.bar()"
   ],
   "metadata": {
    "collapsed": false,
    "pycharm": {
     "name": "#%%\n"
    }
   }
  },
  {
   "cell_type": "code",
   "execution_count": null,
   "outputs": [],
   "source": [
    "n_sources = collection_df['source'].value_counts()\n",
    "n_sources.plot.bar();"
   ],
   "metadata": {
    "collapsed": false,
    "pycharm": {
     "name": "#%%\n"
    }
   }
  },
  {
   "cell_type": "code",
   "execution_count": null,
   "outputs": [],
   "source": [
    "def get_most_common_words(df, top=10, print_=True):\n",
    "    if df.empty:\n",
    "        most_common = pd.Series(dtype=float)\n",
    "    else:\n",
    "        all_words = df['words'].sum()\n",
    "        all_freq = FreqDist(all_words)\n",
    "        most_common = all_freq.most_common(top)\n",
    "        most_common = pd.Series({k: v for k, v in most_common})\n",
    "\n",
    "    if print_:\n",
    "        print(f'Most common {top} words: \\n', most_common)\n",
    "\n",
    "    return pd.Series(most_common)\n"
   ],
   "metadata": {
    "collapsed": false,
    "pycharm": {
     "name": "#%%\n"
    }
   }
  },
  {
   "cell_type": "code",
   "execution_count": null,
   "outputs": [],
   "source": [
    "all_most_common = get_most_common_words(collection_df)"
   ],
   "metadata": {
    "collapsed": false,
    "pycharm": {
     "name": "#%%\n"
    }
   }
  },
  {
   "cell_type": "code",
   "execution_count": null,
   "outputs": [],
   "source": [
    "today = pd.to_datetime('now')\n",
    "a_week_ago = (today - pd.Timedelta('7 days')).strftime('%Y-%m-%d')\n",
    "a_month_ago = (today - pd.Timedelta('30 days')).strftime('%Y-%m-%d')\n",
    "six_months_ago = (today - pd.Timedelta('180 days')).strftime('%Y-%m-%d')\n"
   ],
   "metadata": {
    "collapsed": false,
    "pycharm": {
     "name": "#%%\n"
    }
   }
  },
  {
   "cell_type": "code",
   "execution_count": null,
   "outputs": [],
   "source": [
    "a_week_ago_df = collection_df.query('published_at >= @a_week_ago')\n",
    "a_week_most_common = get_most_common_words(a_week_ago_df)"
   ],
   "metadata": {
    "collapsed": false,
    "pycharm": {
     "name": "#%%\n"
    }
   }
  },
  {
   "cell_type": "code",
   "execution_count": null,
   "outputs": [],
   "source": [
    "a_month_ago_df = collection_df.query('published_at >= @a_month_ago')\n",
    "a_month_most_common = get_most_common_words(a_month_ago_df)\n"
   ],
   "metadata": {
    "collapsed": false,
    "pycharm": {
     "name": "#%%\n"
    }
   }
  },
  {
   "cell_type": "code",
   "execution_count": null,
   "outputs": [],
   "source": [
    "six_months_ago_df = collection_df.query('published_at >= @six_months_ago')\n",
    "six_months_most_common = get_most_common_words(six_months_ago_df)"
   ],
   "metadata": {
    "collapsed": false,
    "pycharm": {
     "name": "#%%\n"
    }
   }
  },
  {
   "cell_type": "code",
   "execution_count": null,
   "outputs": [],
   "source": [
    "monthly_most_common = collection_df.groupby(['year', 'month']).apply(lambda x: get_most_common_words(x, print_=False))\n",
    "print('Most common words for each month: \\n', monthly_most_common)"
   ],
   "metadata": {
    "collapsed": false,
    "pycharm": {
     "name": "#%%\n"
    }
   }
  },
  {
   "cell_type": "code",
   "execution_count": null,
   "outputs": [],
   "source": [],
   "metadata": {
    "collapsed": false,
    "pycharm": {
     "name": "#%%\n"
    }
   }
  },
  {
   "cell_type": "code",
   "execution_count": null,
   "outputs": [],
   "source": [],
   "metadata": {
    "collapsed": false,
    "pycharm": {
     "name": "#%%\n"
    }
   }
  },
  {
   "cell_type": "code",
   "execution_count": null,
   "outputs": [],
   "source": [],
   "metadata": {
    "collapsed": false,
    "pycharm": {
     "name": "#%%\n"
    }
   }
  },
  {
   "cell_type": "code",
   "execution_count": null,
   "outputs": [],
   "source": [],
   "metadata": {
    "collapsed": false,
    "pycharm": {
     "name": "#%%\n"
    }
   }
  },
  {
   "cell_type": "code",
   "execution_count": null,
   "outputs": [],
   "source": [],
   "metadata": {
    "collapsed": false,
    "pycharm": {
     "name": "#%%\n"
    }
   }
  },
  {
   "cell_type": "code",
   "execution_count": null,
   "outputs": [],
   "source": [],
   "metadata": {
    "collapsed": false,
    "pycharm": {
     "name": "#%%\n"
    }
   }
  }
 ],
 "metadata": {
  "kernelspec": {
   "display_name": "Python 3",
   "language": "python",
   "name": "python3"
  },
  "language_info": {
   "codemirror_mode": {
    "name": "ipython",
    "version": 2
   },
   "file_extension": ".py",
   "mimetype": "text/x-python",
   "name": "python",
   "nbconvert_exporter": "python",
   "pygments_lexer": "ipython2",
   "version": "2.7.6"
  }
 },
 "nbformat": 4,
 "nbformat_minor": 0
}