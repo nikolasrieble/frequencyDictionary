{
 "cells": [
  {
   "cell_type": "code",
   "execution_count": null,
   "metadata": {},
   "outputs": [],
   "source": [
    "import os\n",
    "\n",
    "from datetime import datetime\n",
    "from pathlib import Path\n",
    "\n",
    "import matplotlib.pyplot as plt\n",
    "import pandas as pd\n",
    "import pymongo\n",
    "import seaborn as sns\n",
    "from nltk import FreqDist\n",
    "from nltk.corpus import stopwords\n",
    "from nltk.stem.snowball import SnowballStemmer\n",
    "from nltk.tokenize import word_tokenize"
   ]
  },
  {
   "cell_type": "code",
   "execution_count": null,
   "metadata": {
    "collapsed": false,
    "jupyter": {
     "outputs_hidden": false
    },
    "pycharm": {
     "name": "#%%\n"
    }
   },
   "outputs": [],
   "source": [
    "plt.rcParams['figure.figsize'] = 14, 6\n",
    "sns.set()"
   ]
  },
  {
   "cell_type": "code",
   "execution_count": null,
   "metadata": {
    "collapsed": false,
    "jupyter": {
     "outputs_hidden": false
    },
    "pycharm": {
     "name": "#%%\n"
    }
   },
   "outputs": [],
   "source": [
    "CURRENT_PATH = Path.cwd()\n",
    "MONGO_DB = os.environ['MONGO_DB']\n",
    "mydb = pymongo.MongoClient(MONGO_DB)\n",
    "newspaper = mydb['newspaper']"
   ]
  },
  {
   "cell_type": "code",
   "execution_count": null,
   "metadata": {
    "collapsed": false,
    "jupyter": {
     "outputs_hidden": false
    },
    "pycharm": {
     "name": "#%%\n"
    }
   },
   "outputs": [],
   "source": [
    "LANGUAGES = [c for c in newspaper.list_collection_names() if c != 'TARGET']\n",
    "target_collection = newspaper['TARGET']"
   ]
  },
  {
   "cell_type": "code",
   "execution_count": null,
   "metadata": {
    "collapsed": false,
    "jupyter": {
     "outputs_hidden": false
    },
    "pycharm": {
     "name": "#%%\n"
    }
   },
   "outputs": [],
   "source": [
    "source_counts = {}\n",
    "for language in LANGUAGES:\n",
    "    source_counts.update({language: target_collection.count_documents({'language': language})})\n",
    "\n",
    "source_counts = pd.Series(source_counts)\n",
    "source_counts.plot.bar()\n"
   ]
  },
  {
   "cell_type": "code",
   "execution_count": null,
   "metadata": {
    "collapsed": false,
    "jupyter": {
     "outputs_hidden": false
    },
    "pycharm": {
     "name": "#%%\n"
    }
   },
   "outputs": [],
   "source": [
    "language_info = {}\n",
    "for language in LANGUAGES:\n",
    "    language_collection = newspaper[language]\n",
    "    n_papers = language_collection.count_documents({})\n",
    "    n_todos = language_collection.count_documents({\"text\": {\"$exists\": False}})\n",
    "    n_fails = language_collection.count_documents({\"text\": \"Could not be fetched\"})\n",
    "    n_no_pas = language_collection.count_documents({\"published_at\": None})\n",
    "\n",
    "    language_info.update({\n",
    "        language: {\n",
    "            'n_papers': n_papers,\n",
    "            'n_todos': n_todos,\n",
    "            'n_fails': n_fails,\n",
    "            'n_no_pas': n_no_pas,\n",
    "        }\n",
    "    })"
   ]
  },
  {
   "cell_type": "code",
   "execution_count": null,
   "metadata": {
    "collapsed": false,
    "jupyter": {
     "outputs_hidden": false
    },
    "pycharm": {
     "name": "#%%\n"
    }
   },
   "outputs": [],
   "source": [
    "pd.DataFrame(language_info)"
   ]
  }
 ],
 "metadata": {
  "kernelspec": {
   "display_name": "Python 3",
   "language": "python",
   "name": "python3"
  },
  "language_info": {
   "codemirror_mode": {
    "name": "ipython",
    "version": 3
   },
   "file_extension": ".py",
   "mimetype": "text/x-python",
   "name": "python",
   "nbconvert_exporter": "python",
   "pygments_lexer": "ipython3",
   "version": "3.8.5"
  }
 },
 "nbformat": 4,
 "nbformat_minor": 4
}
